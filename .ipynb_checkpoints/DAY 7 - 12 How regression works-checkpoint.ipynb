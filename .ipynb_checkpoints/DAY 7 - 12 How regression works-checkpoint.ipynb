{
 "cells": [
  {
   "cell_type": "code",
   "execution_count": 40,
   "metadata": {},
   "outputs": [],
   "source": [
    "# from statistics import mean\n",
    "import numpy as np\n",
    "import random\n",
    "import matplotlib.pyplot as plt\n",
    "from matplotlib import style\n",
    "style.use('fivethirtyeight')\n",
    "\n",
    "# xs=np.array([1,2,3,4,5,6], dtype=np.float64)\n",
    "# ys=np.array([5,4,6,5,6,7], dtype=np.float64)\n",
    "# plt.scatter(xs,ys)\n",
    "# plt.show()\n",
    "def create_dataset(hm, variance,step=2, correlation=False):\n",
    "    val=1\n",
    "    ys=[]\n",
    "    for i in range(hm):\n",
    "        y=val + random.randrange(-variance,variance)\n",
    "        ys.append(y)\n",
    "        if correlation and correlation =='pos':\n",
    "            val+=step\n",
    "        elif correlation and correlation =='neg':\n",
    "            val-=step\n",
    "    xs=[i for i in range(len(ys))]\n",
    "    return np.array(xs, dtype=np.float64),np.array(ys, dtype=np.float64)\n",
    "\n",
    "def best_fit_slope_and_intercept(xs,yx):\n",
    "    numerator = (np.mean(xs)*np.mean(ys)) - np.mean(xs*ys)\n",
    "    denominator = np.mean(xs)**2 - np.mean(xs**2)\n",
    "    m=numerator/denominator\n",
    "    b= np.mean(ys)-m*np.mean(xs)\n",
    "    return m,b\n",
    "\n",
    "def squared_error(ys_orig, ys_line):\n",
    "    return sum((ys_line-ys_orig)**2)\n",
    "\n",
    "def coeff_of_determination(ys_orig, ys_line):\n",
    "    ys_mean_line= [np.mean(ys_orig) for y in ys_orig]\n",
    "    squared_error_regr= squared_error(ys_orig, ys_line)\n",
    "    squared_error_y_mean= squared_error(ys_orig, ys_mean_line)\n",
    "    return 1-(squared_error_regr/squared_error_y_mean)"
   ]
  },
  {
   "cell_type": "code",
   "execution_count": 47,
   "metadata": {},
   "outputs": [
    {
     "name": "stdout",
     "output_type": "stream",
     "text": [
      "0.945628828042\n"
     ]
    },
    {
     "data": {
      "image/png": "[encoded data removed]",
      "text/plain": [
       "<matplotlib.figure.Figure at 0x22e2b09a0b8>"
      ]
     },
     "metadata": {},
     "output_type": "display_data"
    }
   ],
   "source": [
    "xs,ys= create_dataset(40,10,2,'neg')\n",
    "m,b= best_fit_slope_and_intercept(xs,ys)\n",
    "# print((\"The slope is {} and the intercept is {}\".format(m,b)))\n",
    "\n",
    "regression_line= [((m*x)+b) for x in xs]\n",
    "\n",
    "# predict_x=8\n",
    "# predict_y=(m*predict_x)+b\n",
    "r_squared=coeff_of_determination(ys,regression_line)\n",
    "print(r_squared)\n",
    "plt.scatter(xs,ys)\n",
    "# plt.scatter(predict_x,predict_y)\n",
    "plt.plot(xs, regression_line)\n",
    "plt.show()\n"
   ]
  },
  {
   "cell_type": "code",
   "execution_count": null,
   "metadata": {
    "collapsed": true
   },
   "outputs": [],
   "source": []
  },
  {
   "cell_type": "code",
   "execution_count": null,
   "metadata": {
    "collapsed": true
   },
   "outputs": [],
   "source": []
  }
 ],
 "metadata": {
  "kernelspec": {
   "display_name": "Python 3",
   "language": "python",
   "name": "python3"
  },
  "language_info": {
   "codemirror_mode": {
    "name": "ipython",
    "version": 3
   },
   "file_extension": ".py",
   "mimetype": "text/x-python",
   "name": "python",
   "nbconvert_exporter": "python",
   "pygments_lexer": "ipython3",
   "version": "3.6.1"
  }
 },
 "nbformat": 4,
 "nbformat_minor": 2
}
