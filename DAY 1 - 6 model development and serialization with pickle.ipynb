{
 "cells": [
  {
   "cell_type": "code",
   "execution_count": 38,
   "metadata": {
    "collapsed": true
   },
   "outputs": [],
   "source": [
    "import pandas as pd\n",
    "import quandl"
   ]
  },
  {
   "cell_type": "code",
   "execution_count": 39,
   "metadata": {},
   "outputs": [],
   "source": [
    "# quandl.ApiConfig.api_key = \"vvsxbSKmuqa_-pMxWRo8\"\n",
    "# df=quandl.get('WIKI/GOOGL')\n",
    "# df=df[['Adj. Open','Adj. High','Adj. Low','Adj. Close','Adj. Volume']]\n",
    "# df['HL_PCT']=(df['Adj. High']-df['Adj. Close'])/df['Adj. Close']*100\n",
    "# df['PCT_change']=(df['Adj. Close']-df['Adj. Open'])/df['Adj. Open']*100\n",
    "# df=df[['Adj. Close','HL_PCT','PCT_change', 'Adj. Volume']]\n",
    "# print(df.head())"
   ]
  },
  {
   "cell_type": "markdown",
   "metadata": {},
   "source": [
    "# Day 3"
   ]
  },
  {
   "cell_type": "code",
   "execution_count": 40,
   "metadata": {
    "collapsed": true
   },
   "outputs": [],
   "source": [
    "# import math, datetime\n",
    "# forecast_col= 'Adj. Close'\n",
    "# df.fillna('-99999', inplace=True)\n",
    "# forecast_out=int(math.ceil(0.01*len(df)))\n",
    "# df['label']=df[forecast_col].shift(-forecast_out)"
   ]
  },
  {
   "cell_type": "markdown",
   "metadata": {
    "collapsed": true
   },
   "source": [
    "# Day 4"
   ]
  },
  {
   "cell_type": "code",
   "execution_count": 41,
   "metadata": {},
   "outputs": [],
   "source": [
    "%matplotlib inline\n",
    "import numpy as np\n",
    "import matplotlib.pyplot as plt\n",
    "from matplotlib.style import use\n",
    "from sklearn.cross_validation import train_test_split\n",
    "from sklearn.preprocessing import scale\n",
    "# from sklearn.linear_model import LinearRegression\n",
    "from sklearn.svm import SVR\n",
    "import pickle\n",
    "use('ggplot')"
   ]
  },
  {
   "cell_type": "code",
   "execution_count": 42,
   "metadata": {},
   "outputs": [],
   "source": [
    "# X = np.array(df.drop(['label'],1),)\n",
    "# X=scale(X)\n",
    "# X = X[:-forecast_out]\n",
    "# X_lately = X[-forecast_out:]\n",
    "# df.dropna(inplace=True)\n",
    "# y= np.array(df['label'])\n",
    "# X_train, X_test, y_train, y_test= train_test_split(X,y, test_size=0.2, random_state=1)\n",
    "# #Very easy to switch algorithm\n",
    "\n",
    "# # clf = SVR(kernel='poly')\n",
    "# #n_jobs help with the number of theads/ like speeding up the processor\n",
    "# clf=  LinearRegression(n_jobs=-1)\n",
    "# clf.fit(X_train, y_train)"
   ]
  },
  {
   "cell_type": "code",
   "execution_count": 43,
   "metadata": {},
   "outputs": [],
   "source": [
    "#pickle is used for serialization of python objects\n",
    "# with open('70daysofMLlinearregression.pickle', 'wb') as f:\n",
    "#     pickle.dump(clf,f)\n",
    "pickle_in=open('70daysofMLlinearregression.pickle', 'rb')\n",
    "clf=pickle.load(pickle_in)"
   ]
  },
  {
   "cell_type": "code",
   "execution_count": 44,
   "metadata": {},
   "outputs": [
    {
     "name": "stdout",
     "output_type": "stream",
     "text": [
      "[ 1076.39473283  1090.92887671  1104.90135044  1099.5761428   1093.11899946\n",
      "  1090.48493687  1088.88117518  1085.85412448  1079.7181094   1075.36215693\n",
      "  1073.02130307  1092.43087358  1110.82109478  1115.35944879  1130.20284649\n",
      "  1134.23039783  1132.89414915  1130.38319604  1132.17461569  1150.47391755\n",
      "  1149.76360944  1159.71673174  1156.32444741  1164.05644197  1184.29981906\n",
      "  1196.68543702  1191.06285901  1202.92866599  1208.46312557  1206.57985705\n",
      "  1197.33987937  1202.88466602  1201.49621384  1137.17330411  1084.34518667] 0.976976632638 35\n"
     ]
    }
   ],
   "source": [
    "accuracy= clf.score(X_test, y_test)\n",
    "forecast_set = clf.predict(X_lately)\n",
    "print(forecast_set, accuracy, forecast_out)"
   ]
  },
  {
   "cell_type": "code",
   "execution_count": 45,
   "metadata": {},
   "outputs": [
    {
     "data": {
      "image/png": "[encoded data removed]",
      "text/plain": [
       "<matplotlib.figure.Figure at 0x20073cb2668>"
      ]
     },
     "metadata": {},
     "output_type": "display_data"
    }
   ],
   "source": [
    "df['forecast']=np.nan\n",
    "last_day=df.iloc[-1].name\n",
    "last_unix= last_day.timestamp()\n",
    "one_day=86400\n",
    "next_unix = last_unix + one_day\n",
    "for i in forecast_set:\n",
    "    next_date = datetime.datetime.fromtimestamp(next_unix)\n",
    "    next_unix +=one_day\n",
    "    df.loc[next_date] = [np.nan for _ in range(len(df.columns)-1)]+[i]\n",
    "\n",
    "df['Adj. Close'].plot()\n",
    "df['forecast'].plot()\n",
    "plt.legend(loc=4)\n",
    "plt.xlabel('Date')\n",
    "plt.ylabel('Price')\n",
    "plt.show()"
   ]
  },
  {
   "cell_type": "code",
   "execution_count": null,
   "metadata": {
    "collapsed": true
   },
   "outputs": [],
   "source": []
  }
 ],
 "metadata": {
  "kernelspec": {
   "display_name": "Python 3",
   "language": "python",
   "name": "python3"
  },
  "language_info": {
   "codemirror_mode": {
    "name": "ipython",
    "version": 3
   },
   "file_extension": ".py",
   "mimetype": "text/x-python",
   "name": "python",
   "nbconvert_exporter": "python",
   "pygments_lexer": "ipython3",
   "version": "3.7.6"
  }
 },
 "nbformat": 4,
 "nbformat_minor": 2
}
